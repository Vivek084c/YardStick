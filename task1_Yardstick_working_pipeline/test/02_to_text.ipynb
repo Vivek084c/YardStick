{
 "cells": [
  {
   "cell_type": "code",
   "execution_count": 1,
   "metadata": {},
   "outputs": [],
   "source": [
    "import os"
   ]
  },
  {
   "cell_type": "code",
   "execution_count": 2,
   "metadata": {},
   "outputs": [
    {
     "data": {
      "text/plain": [
       "'/Users/vivek/work/Yardstick/Yardstick_working_pipeline/test'"
      ]
     },
     "execution_count": 2,
     "metadata": {},
     "output_type": "execute_result"
    }
   ],
   "source": [
    "%pwd"
   ]
  },
  {
   "cell_type": "code",
   "execution_count": 3,
   "metadata": {},
   "outputs": [],
   "source": [
    "os.chdir(\"../\")"
   ]
  },
  {
   "cell_type": "code",
   "execution_count": 4,
   "metadata": {},
   "outputs": [
    {
     "data": {
      "text/plain": [
       "'/Users/vivek/work/Yardstick/Yardstick_working_pipeline'"
      ]
     },
     "execution_count": 4,
     "metadata": {},
     "output_type": "execute_result"
    }
   ],
   "source": [
    "%pwd"
   ]
  },
  {
   "cell_type": "code",
   "execution_count": 7,
   "metadata": {},
   "outputs": [
    {
     "data": {
      "text/plain": [
       "True"
      ]
     },
     "execution_count": 7,
     "metadata": {},
     "output_type": "execute_result"
    }
   ],
   "source": [
    "from src.constatns import *\n",
    "from utils.utils_1 import read_yaml\n",
    "import asyncio\n",
    "import yt_dlp\n",
    "from deepgram import Deepgram\n",
    "from dotenv import load_dotenv\n",
    "load_dotenv()\n"
   ]
  },
  {
   "cell_type": "code",
   "execution_count": 12,
   "metadata": {},
   "outputs": [],
   "source": [
    "api_key = os.environ[\"deepgram_api_key\"]"
   ]
  },
  {
   "cell_type": "code",
   "execution_count": 11,
   "metadata": {},
   "outputs": [],
   "source": [
    "class cvt_audio_to_text:\n",
    "    def __init__(\n",
    "            self,\n",
    "            api_key,\n",
    "            filename\n",
    "            ) :\n",
    "        self.api_key = api_key\n",
    "        self.filename = filename\n",
    "    async def Convert_to_text(self):\n",
    "        \"\"\"\n",
    "        Returns the text for the given audio file\n",
    "        Args:\n",
    "            -\n",
    "        Return:\n",
    "            text: transcribed text\n",
    "        \"\"\"\n",
    "        deepgram = Deepgram(self.api_key)\n",
    "        with open(f\"downloads/{self.filename}.mp3\", 'rb') as audio:\n",
    "            source = {'buffer': audio, 'mimetype': 'audio/mp3'}\n",
    "            response = await deepgram.transcription.prerecorded(source, {'punctuate': True})\n",
    "            if response and 'results' in response and response['results']['channels']:\n",
    "                text = response['results']['channels'][0]['alternatives'][0]['transcript']\n",
    "                print(f\"Transcription: {text}\")\n",
    "                return text\n",
    "            else:\n",
    "                print(\"Transcription failed or no results returned.\")\n",
    "                return \"\"\n",
    "    "
   ]
  },
  {
   "cell_type": "code",
   "execution_count": 14,
   "metadata": {},
   "outputs": [],
   "source": [
    "c = cvt_audio_to_text(api_key,\"kibx5BR6trA\")\n"
   ]
  },
  {
   "cell_type": "code",
   "execution_count": 15,
   "metadata": {},
   "outputs": [],
   "source": [
    "textdata  = c.Convert_to_text()"
   ]
  },
  {
   "cell_type": "code",
   "execution_count": 16,
   "metadata": {},
   "outputs": [
    {
     "data": {
      "text/plain": [
       "<coroutine object cvt_audio_to_text.Convert_to_text at 0x113c7f010>"
      ]
     },
     "execution_count": 16,
     "metadata": {},
     "output_type": "execute_result"
    }
   ],
   "source": [
    "textdata"
   ]
  },
  {
   "cell_type": "code",
   "execution_count": null,
   "metadata": {},
   "outputs": [],
   "source": []
  }
 ],
 "metadata": {
  "kernelspec": {
   "display_name": "intenr_1",
   "language": "python",
   "name": "python3"
  },
  "language_info": {
   "codemirror_mode": {
    "name": "ipython",
    "version": 3
   },
   "file_extension": ".py",
   "mimetype": "text/x-python",
   "name": "python",
   "nbconvert_exporter": "python",
   "pygments_lexer": "ipython3",
   "version": "3.11.10"
  }
 },
 "nbformat": 4,
 "nbformat_minor": 2
}
