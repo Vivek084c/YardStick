{
 "cells": [
  {
   "cell_type": "code",
   "execution_count": null,
   "metadata": {},
   "outputs": [],
   "source": []
  },
  {
   "cell_type": "code",
   "execution_count": null,
   "metadata": {},
   "outputs": [],
   "source": []
  },
  {
   "cell_type": "code",
   "execution_count": 1,
   "metadata": {},
   "outputs": [],
   "source": [
    "import os\n"
   ]
  },
  {
   "cell_type": "code",
   "execution_count": 2,
   "metadata": {},
   "outputs": [
    {
     "data": {
      "text/plain": [
       "'/Users/vivek/work/Yardstick/Yardstick_working_pipeline/test'"
      ]
     },
     "execution_count": 2,
     "metadata": {},
     "output_type": "execute_result"
    }
   ],
   "source": [
    "%pwd"
   ]
  },
  {
   "cell_type": "code",
   "execution_count": 3,
   "metadata": {},
   "outputs": [],
   "source": [
    "os.chdir(\"../\")"
   ]
  },
  {
   "cell_type": "code",
   "execution_count": 9,
   "metadata": {},
   "outputs": [
    {
     "data": {
      "text/plain": [
       "'/Users/vivek/work/Yardstick/Yardstick_working_pipeline'"
      ]
     },
     "execution_count": 9,
     "metadata": {},
     "output_type": "execute_result"
    }
   ],
   "source": [
    "%pwd\n"
   ]
  },
  {
   "cell_type": "code",
   "execution_count": 20,
   "metadata": {},
   "outputs": [],
   "source": [
    "from src.constatns import *\n",
    "from utils.utils_1 import read_yaml\n",
    "import asyncio\n",
    "import yt_dlp"
   ]
  },
  {
   "cell_type": "code",
   "execution_count": 21,
   "metadata": {},
   "outputs": [],
   "source": [
    "# reading the config file\n",
    "YT_CONFIG = read_yaml(CONFIG_FILEPATH)"
   ]
  },
  {
   "cell_type": "code",
   "execution_count": 35,
   "metadata": {},
   "outputs": [],
   "source": [
    "class yt_download:\n",
    "    def __init__(\n",
    "            self,\n",
    "            YT_CONFIG=read_yaml(CONFIG_FILEPATH)\n",
    "            ) :\n",
    "        self.url = YT_CONFIG.yt_video_download.url\n",
    "        self.output_path = YT_CONFIG.yt_video_download.output_path\n",
    "\n",
    "    def Download_YT_video(self):\n",
    "        url = self.url\n",
    "        output_path = self.output_path\n",
    "        \"\"\"\n",
    "        Downloads Youtube video and save it\n",
    "        Args:\n",
    "            url - url of youtube video to be downloaded\n",
    "            output_path - path of save directory\n",
    "        Return:\n",
    "            fileName - file name of the downloaded video\n",
    "        \"\"\"\n",
    "        ydl_opts = {\n",
    "            'format': 'bestaudio/best',\n",
    "            'outtmpl': os.path.join(output_path, '%(id)s.%(ext)s'),\n",
    "            'postprocessors': [{\n",
    "                'key': 'FFmpegExtractAudio',\n",
    "                'preferredcodec': 'mp3',\n",
    "                'preferredquality': '192',\n",
    "            }],\n",
    "            'quiet': False,\n",
    "            'no_warnings': True,\n",
    "        }\n",
    "        with yt_dlp.YoutubeDL(ydl_opts) as ydl:\n",
    "            info_dict = ydl.extract_info(url, download=True)\n",
    "            audio_file = ydl.prepare_filename(info_dict).replace('.webm', '.mp3').replace('.m4a', '.mp3')\n",
    "            print(f\"Downloaded audio to {audio_file}\")\n",
    "            fileName = audio_file.split(\"/\")[-1].split(\".\")[0]\n",
    "            return fileName"
   ]
  },
  {
   "cell_type": "code",
   "execution_count": 36,
   "metadata": {},
   "outputs": [
    {
     "name": "stdout",
     "output_type": "stream",
     "text": [
      "[youtube] Extracting URL: https://www.youtube.com/watch?v=kibx5BR6trA\n",
      "[youtube] kibx5BR6trA: Downloading webpage\n",
      "[youtube] kibx5BR6trA: Downloading ios player API JSON\n",
      "[youtube] kibx5BR6trA: Downloading mweb player API JSON\n",
      "[youtube] kibx5BR6trA: Downloading m3u8 information\n",
      "[info] kibx5BR6trA: Downloading 1 format(s): 251\n",
      "[download] Destination: downloads/kibx5BR6trA.webm\n",
      "[download] 100% of    2.16MiB in 00:00:05 at 392.82KiB/s \n",
      "[ExtractAudio] Destination: downloads/kibx5BR6trA.mp3\n",
      "Deleting original file downloads/kibx5BR6trA.webm (pass -k to keep)\n",
      "Downloaded audio to downloads/kibx5BR6trA.mp3\n"
     ]
    }
   ],
   "source": [
    "y = yt_download()\n",
    "filename = y.Download_YT_video()"
   ]
  },
  {
   "cell_type": "code",
   "execution_count": 37,
   "metadata": {},
   "outputs": [
    {
     "data": {
      "text/plain": [
       "'kibx5BR6trA'"
      ]
     },
     "execution_count": 37,
     "metadata": {},
     "output_type": "execute_result"
    }
   ],
   "source": [
    "filename"
   ]
  },
  {
   "cell_type": "code",
   "execution_count": null,
   "metadata": {},
   "outputs": [],
   "source": []
  }
 ],
 "metadata": {
  "kernelspec": {
   "display_name": "intenr_1",
   "language": "python",
   "name": "python3"
  },
  "language_info": {
   "codemirror_mode": {
    "name": "ipython",
    "version": 3
   },
   "file_extension": ".py",
   "mimetype": "text/x-python",
   "name": "python",
   "nbconvert_exporter": "python",
   "pygments_lexer": "ipython3",
   "version": "3.11.10"
  }
 },
 "nbformat": 4,
 "nbformat_minor": 2
}
